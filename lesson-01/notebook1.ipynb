{
 "cells": [
  {
   "cell_type": "code",
   "execution_count": null,
   "metadata": {},
   "outputs": [],
   "source": [
    "# This is a comment\n",
    "x = 5\n",
    "y = \"Hello, World!\"\n",
    "should_I_run = False\n",
    "\n",
    "if should_I_run:\n",
    "    print(y)\n",
    "else:\n",
    "    print(x)"
   ]
  },
  {
   "cell_type": "markdown",
   "metadata": {},
   "source": [
    "# Variable types"
   ]
  },
  {
   "cell_type": "code",
   "execution_count": null,
   "metadata": {},
   "outputs": [],
   "source": [
    "# Numeric\n",
    "x = 3\n",
    "y = -3.0\n",
    "z = 1/3\n",
    "print(x, y, z)\n",
    "print(type(x), type(y), type(z))\n",
    "\n",
    "# String\n",
    "x = \"Hello, World!\"\n",
    "print(x)\n",
    "print(type(x))\n",
    "\n",
    "# boolean\n",
    "x = True\n",
    "y = False\n",
    "print(x, y)\n",
    "print(type(x), type(y))\n",
    "\n",
    "# List\n",
    "x = [\"apple\", \"banana\", \"cherry\"]\n",
    "y = [1, 2, 3, 4, 5]\n",
    "z = [True, False, False]\n",
    "print(x, y, z)\n",
    "print(type(x), type(y), type(z))"
   ]
  },
  {
   "cell_type": "code",
   "execution_count": null,
   "metadata": {},
   "outputs": [],
   "source": [
    "x = 4\n",
    "y = 3\n",
    "z = x + y\n",
    "print(z, type(z))"
   ]
  },
  {
   "cell_type": "code",
   "execution_count": null,
   "metadata": {},
   "outputs": [],
   "source": [
    "x = 4\n",
    "y = 3.0\n",
    "z = x + y\n",
    "print(z, type(z))"
   ]
  },
  {
   "cell_type": "code",
   "execution_count": null,
   "metadata": {},
   "outputs": [],
   "source": [
    "x = '10'\n",
    "y = 'I am ' + x + ' years old'\n",
    "print(y)"
   ]
  },
  {
   "cell_type": "code",
   "execution_count": null,
   "metadata": {},
   "outputs": [],
   "source": [
    "x = 10\n",
    "y = 'I am ' + x + ' years old'\n",
    "print(y)"
   ]
  },
  {
   "cell_type": "markdown",
   "metadata": {},
   "source": [
    "# If logic\n",
    "```python\n",
    "if \"expression\":\n",
    "    print(\"a is positive\")\n",
    "elif \"expression\":\n",
    "    print(\"a is negative\")\n",
    "    if \"expression\":\n",
    "        print(\"a is less than 10\")\n",
    "    else:\n",
    "        print(\"a is greater than 10\")\n",
    "else:\n",
    "    print(\"a is zero\")\n",
    "```\n",
    "# Expressions\n",
    "```python\n",
    "if (x > 0 and x < 5)\n",
    "if (x > 0 or x < 5)\n",
    "if not (x > 0)\n",
    "if ((x > 0 and x < 5) or (x > 10 and x < 15))\n",
    "```"
   ]
  },
  {
   "cell_type": "code",
   "execution_count": 24,
   "metadata": {},
   "outputs": [
    {
     "name": "stdout",
     "output_type": "stream",
     "text": [
      "Enter your name:\n",
      "Hello, hello\n"
     ]
    }
   ],
   "source": [
    "# Read input\n",
    "\n",
    "print(\"Enter your name:\")\n",
    "x = input()\n",
    "print(\"Hello, \" + x)"
   ]
  }
 ],
 "metadata": {
  "kernelspec": {
   "display_name": ".venv",
   "language": "python",
   "name": "python3"
  },
  "language_info": {
   "codemirror_mode": {
    "name": "ipython",
    "version": 3
   },
   "file_extension": ".py",
   "mimetype": "text/x-python",
   "name": "python",
   "nbconvert_exporter": "python",
   "pygments_lexer": "ipython3",
   "version": "3.11.5"
  }
 },
 "nbformat": 4,
 "nbformat_minor": 2
}
